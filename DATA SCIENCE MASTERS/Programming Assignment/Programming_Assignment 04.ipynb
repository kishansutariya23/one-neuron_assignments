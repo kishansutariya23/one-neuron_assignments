{
 "cells": [
  {
   "cell_type": "markdown",
   "id": "ca6a8ee0",
   "metadata": {},
   "source": [
    "# 1.\tWrite a Python Program to Find the Factorial of a Number?\n"
   ]
  },
  {
   "cell_type": "code",
   "execution_count": 26,
   "id": "2e725dd6",
   "metadata": {},
   "outputs": [
    {
     "name": "stdout",
     "output_type": "stream",
     "text": [
      "Enter a number5\n"
     ]
    },
    {
     "data": {
      "text/plain": [
       "120"
      ]
     },
     "execution_count": 26,
     "metadata": {},
     "output_type": "execute_result"
    }
   ],
   "source": [
    "def factor(n):\n",
    "    if n==0:\n",
    "        return 1\n",
    "    return n*factor(n-1)\n",
    "\n",
    "f=int(input('Enter a number'))\n",
    "factor(f)"
   ]
  },
  {
   "cell_type": "markdown",
   "id": "e99b846b",
   "metadata": {},
   "source": [
    "# 2.\tWrite a Python Program to Display the multiplication Table?\n"
   ]
  },
  {
   "cell_type": "code",
   "execution_count": 27,
   "id": "bcca6bc8",
   "metadata": {},
   "outputs": [
    {
     "name": "stdout",
     "output_type": "stream",
     "text": [
      "Enter table name10\n",
      "10 X 1 = 10\n",
      "10 X 2 = 20\n",
      "10 X 3 = 30\n",
      "10 X 4 = 40\n",
      "10 X 5 = 50\n",
      "10 X 6 = 60\n",
      "10 X 7 = 70\n",
      "10 X 8 = 80\n",
      "10 X 9 = 90\n",
      "10 X 10 = 100\n"
     ]
    }
   ],
   "source": [
    "table=int(input('Enter table name'))\n",
    "for i in range(1,10+1):\n",
    "    print(table,'X',i,'=',table*i)"
   ]
  },
  {
   "cell_type": "markdown",
   "id": "2c4277bd",
   "metadata": {},
   "source": [
    "# 3.\tWrite a Python Program to Print the Fibonacci sequence?\n"
   ]
  },
  {
   "cell_type": "code",
   "execution_count": 28,
   "id": "4df83fe9",
   "metadata": {},
   "outputs": [
    {
     "name": "stdout",
     "output_type": "stream",
     "text": [
      "0\n",
      "1\n",
      "1 2 3 5 8 13 21 34 55 89 144 233 377 610 987 1597 2584 4181 6765 10946 17711 28657 46368 "
     ]
    }
   ],
   "source": [
    "def fibb(n):\n",
    "    f=0 # first number \n",
    "    s=1  # second number\n",
    "    t=f+s  # third no=sum of previous 2 no.\n",
    "    print(f)\n",
    "    print(s)\n",
    "    for i in range(n):\n",
    "        print(t,end=' ',sep=' ')\n",
    "        f=s\n",
    "        s=t\n",
    "        t=f+s\n",
    "        \n",
    "# fibonacci sequence for 23 numbers\n",
    "fibb(23)\n",
    "      \n",
    "\n"
   ]
  },
  {
   "cell_type": "markdown",
   "id": "701f102a",
   "metadata": {},
   "source": [
    "# 4.\tWrite a Python Program to Check Armstrong Number?\n"
   ]
  },
  {
   "cell_type": "code",
   "execution_count": 29,
   "id": "40ed826d",
   "metadata": {},
   "outputs": [
    {
     "name": "stdout",
     "output_type": "stream",
     "text": [
      "Enter the number for checking Armstrong Number:-370\n",
      "It is Armstrong Number\n"
     ]
    }
   ],
   "source": [
    "# below is the technique for finding the armstrong no.\n",
    "\n",
    "# 3**3 + 7**3 + 1**3 = 371\n",
    "def checkArmstrong(arm_no):\n",
    "    l=len(str(arm_no))\n",
    "    result=0\n",
    "    temp=arm_no\n",
    "    while temp>0:\n",
    "        digit =temp%10\n",
    "        result+=digit**l\n",
    "        temp//=10\n",
    "    if arm_no==result:\n",
    "        print(\"It is Armstrong Number\")\n",
    "    else:\n",
    "        print(\"It is NOT Armstrong Number\")\n",
    "\n",
    "arm_no=int(input('Enter the number for checking Armstrong Number:-'))\n",
    "checkArmstrong(arm_no)"
   ]
  },
  {
   "cell_type": "markdown",
   "id": "a8115f76",
   "metadata": {},
   "source": [
    "# 5.\tWrite a Python Program to Find Armstrong Number in an Interval?\n"
   ]
  },
  {
   "cell_type": "code",
   "execution_count": 30,
   "id": "98b3638f",
   "metadata": {},
   "outputs": [
    {
     "name": "stdout",
     "output_type": "stream",
     "text": [
      "370 It is Armstrong Number\n",
      "371 It is Armstrong Number\n"
     ]
    }
   ],
   "source": [
    "for i in range(300,400):\n",
    "    l=len(str(i))\n",
    "    result=0\n",
    "    temp=i\n",
    "    while temp>0:\n",
    "        digit =temp%10\n",
    "        result+=digit**l\n",
    "        temp//=10\n",
    "    if i==result:\n",
    "        print(i,\"It is Armstrong Number\")\n",
    "        \n",
    "    else:\n",
    "        pass\n",
    "    \n"
   ]
  },
  {
   "cell_type": "markdown",
   "id": "bbaee4f6",
   "metadata": {},
   "source": [
    "# 6.\tWrite a Python Program to Find the Sum of Natural Numbers?\n"
   ]
  },
  {
   "cell_type": "code",
   "execution_count": 31,
   "id": "12d81616",
   "metadata": {},
   "outputs": [
    {
     "name": "stdout",
     "output_type": "stream",
     "text": [
      "Enter max number you want 100\n",
      "5050.0\n"
     ]
    }
   ],
   "source": [
    "# all positive number comes under natural number\n",
    "nn=int(input('Enter max number you want '))\n",
    "formula=nn*(nn+1)/2\n",
    "print(formula)"
   ]
  },
  {
   "cell_type": "code",
   "execution_count": null,
   "id": "90cdf619",
   "metadata": {},
   "outputs": [],
   "source": []
  }
 ],
 "metadata": {
  "kernelspec": {
   "display_name": "Python 3 (ipykernel)",
   "language": "python",
   "name": "python3"
  },
  "language_info": {
   "codemirror_mode": {
    "name": "ipython",
    "version": 3
   },
   "file_extension": ".py",
   "mimetype": "text/x-python",
   "name": "python",
   "nbconvert_exporter": "python",
   "pygments_lexer": "ipython3",
   "version": "3.9.7"
  }
 },
 "nbformat": 4,
 "nbformat_minor": 5
}
