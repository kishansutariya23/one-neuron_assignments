{
 "cells": [
  {
   "attachments": {},
   "cell_type": "markdown",
   "metadata": {},
   "source": [
    "## q1"
   ]
  },
  {
   "cell_type": "code",
   "execution_count": 1,
   "metadata": {},
   "outputs": [
    {
     "name": "stdout",
     "output_type": "stream",
     "text": [
      "2\n",
      "3\n",
      "0\n",
      "2\n"
     ]
    }
   ],
   "source": [
    "def equal(a,b,c):\n",
    "    r=1\n",
    "    l=[a,b,c]\n",
    "    ll=len(l)\n",
    "    se=len(set(l))\n",
    "    if ll!=se:\n",
    "        return ll-se+1\n",
    "    else:\n",
    "        return ll-se\n",
    "    \n",
    "print(equal(3,4,3))\n",
    "print(equal(1,1,1))\n",
    "print(equal(3,4,1))\n",
    "print(equal(4,4,1))"
   ]
  },
  {
   "attachments": {},
   "cell_type": "markdown",
   "metadata": {},
   "source": [
    "## q2"
   ]
  },
  {
   "cell_type": "code",
   "execution_count": 2,
   "metadata": {},
   "outputs": [
    {
     "name": "stdout",
     "output_type": "stream",
     "text": [
      "[('b', 2), ('c', 3), ('d', 1)]\n"
     ]
    }
   ],
   "source": [
    "def dist_to_list(d2):\n",
    "    l2=[]\n",
    "    for i in d2.items():\n",
    "        l2.append(i)\n",
    "    l2.sort()\n",
    "    return l2\n",
    "\n",
    "d2={'d':1,'b':2,'c':3}\n",
    "print(dist_to_list(d2))"
   ]
  },
  {
   "attachments": {},
   "cell_type": "markdown",
   "metadata": {},
   "source": [
    "## q3"
   ]
  },
  {
   "cell_type": "code",
   "execution_count": 3,
   "metadata": {},
   "outputs": [
    {
     "name": "stdout",
     "output_type": "stream",
     "text": [
      "{'a': 'A', 'v': 'V', 'y': 'Y', 'z': 'Z'}\n",
      "{'a': 'A', 'b': 'B', 'c': 'C', 'v': 'V'}\n"
     ]
    }
   ],
   "source": [
    "def mapping(ll):\n",
    "    d3={}\n",
    "    for i in ll:\n",
    "        d3[i]=i.upper()\n",
    "    return d3\n",
    "\n",
    "print(mapping(['a','v','y','z']))\n",
    "print(mapping(['a','b','c','v']))"
   ]
  },
  {
   "attachments": {},
   "cell_type": "markdown",
   "metadata": {},
   "source": [
    "## q4"
   ]
  },
  {
   "cell_type": "code",
   "execution_count": 4,
   "metadata": {},
   "outputs": [
    {
     "name": "stdout",
     "output_type": "stream",
     "text": [
      "upplu und bunnunu\n",
      "Steffed jelepene peppers\n"
     ]
    }
   ],
   "source": [
    "def vowel_replace(string, char):\n",
    "    v='aeiou'\n",
    "    for i in string:\n",
    "        if i in v:\n",
    "            string=string.replace(i,char)\n",
    "    return string\n",
    "\n",
    "print(vowel_replace('apple and bannana','u'))\n",
    "print(vowel_replace('Stuffed jalapeno poppers','e'))"
   ]
  },
  {
   "attachments": {},
   "cell_type": "markdown",
   "metadata": {},
   "source": [
    "## q5"
   ]
  },
  {
   "cell_type": "code",
   "execution_count": 5,
   "metadata": {},
   "outputs": [
    {
     "name": "stdout",
     "output_type": "stream",
     "text": [
      "To Be oR NoT To Be!\n",
      "THe LiTTLe meRmaiD\n"
     ]
    }
   ],
   "source": [
    "def ascii_capitalize(s5):\n",
    "    for i in s5:\n",
    "        if ord(i)%2==0:\n",
    "            s5=s5.replace(i,i.upper())\n",
    "        elif ord(i)%2!=0:\n",
    "            s5=s5.replace(i,i.lower())\n",
    "    return s5\n",
    "\n",
    "print(ascii_capitalize('to be or not to be!'))\n",
    "print(ascii_capitalize('THE LITTLE MERMAID'))\n"
   ]
  },
  {
   "cell_type": "code",
   "execution_count": null,
   "metadata": {},
   "outputs": [],
   "source": []
  }
 ],
 "metadata": {
  "kernelspec": {
   "display_name": "base",
   "language": "python",
   "name": "python3"
  },
  "language_info": {
   "codemirror_mode": {
    "name": "ipython",
    "version": 3
   },
   "file_extension": ".py",
   "mimetype": "text/x-python",
   "name": "python",
   "nbconvert_exporter": "python",
   "pygments_lexer": "ipython3",
   "version": "3.9.7"
  },
  "orig_nbformat": 4
 },
 "nbformat": 4,
 "nbformat_minor": 2
}
