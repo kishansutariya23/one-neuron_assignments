{
 "cells": [
  {
   "cell_type": "markdown",
   "id": "e7f3e377",
   "metadata": {},
   "source": [
    "# 1. Write a Python Program to Add Two Matrices?\n"
   ]
  },
  {
   "cell_type": "code",
   "execution_count": 1,
   "id": "16f751db",
   "metadata": {},
   "outputs": [
    {
     "name": "stdout",
     "output_type": "stream",
     "text": [
      "[2, 4, 6]\n",
      "[8, 10, 12]\n",
      "[14, 16, 18]\n"
     ]
    }
   ],
   "source": [
    "a=[[1,2,3],[4,5,6],[7,8,9]]\n",
    "b=[[1,2,3],[4,5,6],[7,8,9]]\n",
    "x=[[0,0,0],[0,0,0],[0,0,0]]\n",
    "for i in range(len(a)):\n",
    "    for j in range(len(a[0])):\n",
    "        x[i][j]=a[i][j]+b[i][j]\n",
    "\n",
    "for r in x:\n",
    "    print(r)\n"
   ]
  },
  {
   "cell_type": "code",
   "execution_count": 2,
   "id": "f4f6066a",
   "metadata": {},
   "outputs": [
    {
     "data": {
      "text/plain": [
       "array([[ 2,  4,  6],\n",
       "       [ 8, 10, 12],\n",
       "       [14, 16, 18]])"
      ]
     },
     "execution_count": 2,
     "metadata": {},
     "output_type": "execute_result"
    }
   ],
   "source": [
    "# using numpy package\n",
    "import numpy as np\n",
    "arr1=np.array([[1,2,3],[4,5,6],[7,8,9]])\n",
    "arr2=np.array([[1,2,3],[4,5,6],[7,8,9]])\n",
    "np.add(arr1,arr2)"
   ]
  },
  {
   "cell_type": "markdown",
   "id": "c85e0d17",
   "metadata": {},
   "source": [
    "#  2. Write a Python Program to Multiply Two Matrices?\n"
   ]
  },
  {
   "cell_type": "code",
   "execution_count": 3,
   "id": "8f9c3a39",
   "metadata": {},
   "outputs": [
    {
     "name": "stdout",
     "output_type": "stream",
     "text": [
      "[1, 4, 9]\n",
      "[16, 25, 36]\n",
      "[49, 64, 81]\n"
     ]
    }
   ],
   "source": [
    "# this multiplication is index to index multiplication\n",
    "a=[[1,2,3],[4,5,6],[7,8,9]]\n",
    "b=[[1,2,3],[4,5,6],[7,8,9]]\n",
    "x=[[0,0,0],[0,0,0],[0,0,0]]\n",
    "for i in range(len(a)):\n",
    "    for j in range(len(a[0])):\n",
    "        x[i][j]=a[i][j]*b[i][j]\n",
    "\n",
    "for r in x:\n",
    "    print(r)\n"
   ]
  },
  {
   "cell_type": "code",
   "execution_count": 4,
   "id": "f68f2ea0",
   "metadata": {},
   "outputs": [
    {
     "data": {
      "text/plain": [
       "array([[ 1,  4,  9],\n",
       "       [16, 25, 36],\n",
       "       [49, 64, 81]])"
      ]
     },
     "execution_count": 4,
     "metadata": {},
     "output_type": "execute_result"
    }
   ],
   "source": [
    "# using numpy package\n",
    "arr1=np.array([[1,2,3],[4,5,6],[7,8,9]])\n",
    "arr2=np.array([[1,2,3],[4,5,6],[7,8,9]])\n",
    "np.multiply(arr1,arr2)"
   ]
  },
  {
   "cell_type": "markdown",
   "id": "cf41d2ef",
   "metadata": {},
   "source": [
    "#  3. Write a Python Program to Transpose a Matrix?\n"
   ]
  },
  {
   "cell_type": "code",
   "execution_count": 5,
   "id": "4d1c026d",
   "metadata": {},
   "outputs": [
    {
     "name": "stdout",
     "output_type": "stream",
     "text": [
      "[1, 4, 7]\n",
      "[2, 5, 8]\n",
      "[3, 6, 9]\n"
     ]
    }
   ],
   "source": [
    "a=[[1,2,3],[4,5,6],[7,8,9]]\n",
    "x=[[0,0,0],[0,0,0],[0,0,0]]\n",
    "\n",
    "for i in range(len(a)):\n",
    "    for j in range(len(a[0])):\n",
    "        x[j][i]=a[i][j]\n",
    "for r in x:\n",
    "    print(r)"
   ]
  },
  {
   "cell_type": "code",
   "execution_count": 6,
   "id": "5026515f",
   "metadata": {},
   "outputs": [
    {
     "data": {
      "text/plain": [
       "array([[1, 4, 7],\n",
       "       [2, 5, 8],\n",
       "       [3, 6, 9]])"
      ]
     },
     "execution_count": 6,
     "metadata": {},
     "output_type": "execute_result"
    }
   ],
   "source": [
    "# using numpy package \n",
    "arr=np.array([[1,2,3],[4,5,6],[7,8,9]])\n",
    "arr.transpose()"
   ]
  },
  {
   "cell_type": "markdown",
   "id": "0e79eafd",
   "metadata": {},
   "source": [
    "#  4. Write a Python Program to Sort Words in Alphabetic Order?\n"
   ]
  },
  {
   "cell_type": "code",
   "execution_count": 7,
   "id": "23850bb8",
   "metadata": {},
   "outputs": [
    {
     "name": "stdout",
     "output_type": "stream",
     "text": [
      "['Data', 'Hey', 'Master', 'Science', 'assignment_8', 'course', 'from', 'is', 'is', 'kishan', 'kumar', 'my', 'my', 'name', 'this']\n",
      "Data\n",
      "Hey\n",
      "Master\n",
      "Science\n",
      "assignment_8\n",
      "course\n",
      "from\n",
      "is\n",
      "is\n",
      "kishan\n",
      "kumar\n",
      "my\n",
      "my\n",
      "name\n",
      "this\n"
     ]
    }
   ],
   "source": [
    "# Capital letter have less weight than small letter\n",
    "#  A =65\n",
    "# a=97\n",
    "sentence='Hey my name is kishan kumar this is my assignment_8 from Data Science Master course'\n",
    "output=sentence.split()\n",
    "output.sort()\n",
    "print(output)\n",
    "for i in output:\n",
    "    print(i)"
   ]
  },
  {
   "cell_type": "code",
   "execution_count": null,
   "id": "12c15c28",
   "metadata": {},
   "outputs": [],
   "source": [
    " "
   ]
  },
  {
   "cell_type": "markdown",
   "id": "f6f90081",
   "metadata": {},
   "source": [
    "# 5. Write a Python Program to Remove Punctuation From a String?"
   ]
  },
  {
   "cell_type": "code",
   "execution_count": 8,
   "id": "9ea63484",
   "metadata": {},
   "outputs": [
    {
     "name": "stdout",
     "output_type": "stream",
     "text": [
      "Hey my nme is ksn\n"
     ]
    }
   ],
   "source": [
    "p=\"{'}[]():;.,-/*?!@#\"\n",
    "s=\"H'e.y (m,[y]) n@me is k!s#@n\"\n",
    "r=''\n",
    "\n",
    "for i in s:\n",
    "    if i  not in p:\n",
    "#         print(i)\n",
    "        r=r+i\n",
    "print(r)"
   ]
  },
  {
   "cell_type": "code",
   "execution_count": null,
   "id": "3e4d8b3f",
   "metadata": {},
   "outputs": [],
   "source": []
  },
  {
   "cell_type": "code",
   "execution_count": null,
   "id": "0b12df03",
   "metadata": {},
   "outputs": [],
   "source": []
  }
 ],
 "metadata": {
  "kernelspec": {
   "display_name": "Python 3 (ipykernel)",
   "language": "python",
   "name": "python3"
  },
  "language_info": {
   "codemirror_mode": {
    "name": "ipython",
    "version": 3
   },
   "file_extension": ".py",
   "mimetype": "text/x-python",
   "name": "python",
   "nbconvert_exporter": "python",
   "pygments_lexer": "ipython3",
   "version": "3.9.7"
  }
 },
 "nbformat": 4,
 "nbformat_minor": 5
}
