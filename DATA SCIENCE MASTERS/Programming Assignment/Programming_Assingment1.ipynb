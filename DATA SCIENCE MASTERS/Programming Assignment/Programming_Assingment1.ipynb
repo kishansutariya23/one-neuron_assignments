{
 "cells": [
  {
   "cell_type": "markdown",
   "id": "082faed3",
   "metadata": {},
   "source": [
    "## 1.\tWrite a Python program to print \"Hello Python\"?\n",
    "\n"
   ]
  },
  {
   "cell_type": "code",
   "execution_count": 1,
   "id": "9b2bc774",
   "metadata": {},
   "outputs": [
    {
     "name": "stdout",
     "output_type": "stream",
     "text": [
      "Hello Python\n"
     ]
    }
   ],
   "source": [
    "print(\"Hello Python\")"
   ]
  },
  {
   "cell_type": "markdown",
   "id": "77d0e44d",
   "metadata": {},
   "source": [
    "## 2.\tWrite a Python program to do arithmetical operations addition and division.?"
   ]
  },
  {
   "cell_type": "code",
   "execution_count": 2,
   "id": "367dccc3",
   "metadata": {},
   "outputs": [],
   "source": [
    "def addition(a,*b):\n",
    "#     we can give n no. of arguments and for them addition will be performed\n",
    "    result=a\n",
    "    for i in b:\n",
    "        result=result+i\n",
    "    return result\n",
    "\n",
    "def division(a,*b):\n",
    "#     we can give n no. of arguments and for them division will be performed\n",
    "\n",
    "    result=a\n",
    "    for i in b:\n",
    "        result=result/i\n",
    "    return result"
   ]
  },
  {
   "cell_type": "code",
   "execution_count": 3,
   "id": "c9573001",
   "metadata": {},
   "outputs": [
    {
     "name": "stdout",
     "output_type": "stream",
     "text": [
      "10\n",
      "1.0\n"
     ]
    }
   ],
   "source": [
    "# we have passed more than 2 arrgument and for them we will get the result\n",
    "print(addition(1,2,3,4)) \n",
    "print(division(4,2,2))"
   ]
  },
  {
   "cell_type": "markdown",
   "id": "21083c59",
   "metadata": {},
   "source": [
    "## 3.\tWrite a Python program to find the area of a triangle?\n"
   ]
  },
  {
   "cell_type": "code",
   "execution_count": 4,
   "id": "7e42fcfb",
   "metadata": {},
   "outputs": [
    {
     "name": "stdout",
     "output_type": "stream",
     "text": [
      "15.0\n"
     ]
    }
   ],
   "source": [
    "def areaOfTriangle(b,h):\n",
    "    return 0.5*b*h\n",
    "\n",
    "print(areaOfTriangle(5,6))"
   ]
  },
  {
   "cell_type": "markdown",
   "id": "a3651fed",
   "metadata": {},
   "source": [
    "## 4.\tWrite a Python program to swap two variables?\n"
   ]
  },
  {
   "cell_type": "code",
   "execution_count": 5,
   "id": "62407ddb",
   "metadata": {},
   "outputs": [
    {
     "name": "stdout",
     "output_type": "stream",
     "text": [
      "Before swaping : 10\n",
      "Before swaping : 20\n",
      "---------------\n",
      "After swaping : 20\n",
      "After swaping : 10\n"
     ]
    }
   ],
   "source": [
    "a=10\n",
    "b=20\n",
    "print('Before swaping :',a)\n",
    "print('Before swaping :',b)\n",
    "\n",
    "a,b=b,a\n",
    "\n",
    "print('---------------')\n",
    "print('After swaping :',a)\n",
    "print('After swaping :',b)"
   ]
  },
  {
   "cell_type": "markdown",
   "id": "fbb5f193",
   "metadata": {},
   "source": [
    "## 5.\tWrite a Python program to generate a random number?\n"
   ]
  },
  {
   "cell_type": "code",
   "execution_count": 6,
   "id": "914c0da8",
   "metadata": {},
   "outputs": [
    {
     "data": {
      "text/plain": [
       "5"
      ]
     },
     "execution_count": 6,
     "metadata": {},
     "output_type": "execute_result"
    }
   ],
   "source": [
    "import random \n",
    "random.randint(1,23) # it will generate number between given input range.\n",
    "# Both upper and lower limit are included in the output"
   ]
  },
  {
   "cell_type": "code",
   "execution_count": null,
   "id": "012cccb2",
   "metadata": {},
   "outputs": [],
   "source": []
  }
 ],
 "metadata": {
  "kernelspec": {
   "display_name": "Python 3 (ipykernel)",
   "language": "python",
   "name": "python3"
  },
  "language_info": {
   "codemirror_mode": {
    "name": "ipython",
    "version": 3
   },
   "file_extension": ".py",
   "mimetype": "text/x-python",
   "name": "python",
   "nbconvert_exporter": "python",
   "pygments_lexer": "ipython3",
   "version": "3.9.7"
  }
 },
 "nbformat": 4,
 "nbformat_minor": 5
}
