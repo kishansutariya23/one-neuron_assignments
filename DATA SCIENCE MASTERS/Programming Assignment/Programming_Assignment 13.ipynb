{
 "cells": [
  {
   "cell_type": "markdown",
   "id": "e3e2f75d",
   "metadata": {},
   "source": [
    "# Question 1:\n",
    "\n",
    "Write a program that calculates and prints the value according to the given formula:\n",
    "\n",
    "Q = Square root of [(2 * C * D)/H]\n",
    "\n",
    "Following are the fixed values of C and H:\n",
    "\n",
    "C is 50. H is 30.\n",
    "\n",
    "D is the variable whose values should be input to your program in a comma-separated sequence.\n",
    "\n",
    "Example\n",
    "\n",
    "Let us assume the following comma separated input sequence is given to the program:\n",
    "\n",
    "100,150,180\n",
    "\n",
    "The output of the program should be:\n",
    "\n",
    "18,22,24\n"
   ]
  },
  {
   "cell_type": "code",
   "execution_count": 1,
   "id": "56eb620a",
   "metadata": {},
   "outputs": [
    {
     "name": "stdout",
     "output_type": "stream",
     "text": [
      "Enter the input sequence : 100,150,180\n",
      "Output: 18,22,24\n"
     ]
    }
   ],
   "source": [
    "from math import sqrt\n",
    "\n",
    "def Q1():\n",
    "    D=eval(input('Enter the input sequence : '))\n",
    "    out=[]\n",
    "    C=50\n",
    "    H=30\n",
    "    for i in D:\n",
    "        Q=str(int(sqrt((2*C*i)/H)))\n",
    "        out.append(Q)\n",
    "    print(\"Output: {}\".format(','.join(out)))\n",
    "    \n",
    "Q1()"
   ]
  },
  {
   "cell_type": "markdown",
   "id": "b2a9114f",
   "metadata": {},
   "source": [
    "\n",
    "# Question 2:\n",
    "Write a program which takes 2 digits, X,Y as input and generates a 2-dimensional array. The element value in the i-th row and j-th column of the array should be i*j.\n",
    "\n",
    "Note: i=0,1.., X-1; j=0,1,¡¬Y-1.\n",
    "\n",
    "Example\n",
    "\n",
    "Suppose the following inputs are given to the program:\n",
    "\n",
    "3,5\n",
    "\n",
    "Then, the output of the program should be:\n",
    "\n",
    "[[0, 0, 0, 0, 0], [0, 1, 2, 3, 4], [0, 2, 4, 6, 8]] \n",
    "\n"
   ]
  },
  {
   "cell_type": "code",
   "execution_count": 2,
   "id": "d9e8e238",
   "metadata": {},
   "outputs": [
    {
     "name": "stdout",
     "output_type": "stream",
     "text": [
      "Enter X value :3\n",
      "Enter Y value :5\n",
      "[[0, 0, 0, 0, 0], [0, 1, 2, 3, 4], [0, 2, 4, 6, 8]]\n"
     ]
    }
   ],
   "source": [
    "X=int(input('Enter X value :'))\n",
    "Y=int(input('Enter Y value :'))\n",
    "a=[]\n",
    "for i in range(X):\n",
    "    a.insert(X,[])\n",
    "    for j in range(Y):\n",
    "        a[i].append(i*j)\n",
    "    \n",
    "print(a)\n",
    " "
   ]
  },
  {
   "cell_type": "markdown",
   "id": "128cbb58",
   "metadata": {},
   "source": [
    "\n",
    "# Question 3:\n",
    "Write a program that accepts a comma separated sequence of words as input and prints the words in a comma-separated sequence after sorting them alphabetically.\n",
    "\n",
    "Suppose the following input is supplied to the program:\n",
    "\n",
    "without,hello,bag,world\n",
    "\n",
    "Then, the output should be:\n",
    "\n",
    "bag,hello,without,world\n",
    "\n",
    "\n",
    "\n"
   ]
  },
  {
   "cell_type": "code",
   "execution_count": 3,
   "id": "985d5480",
   "metadata": {},
   "outputs": [
    {
     "name": "stdout",
     "output_type": "stream",
     "text": [
      "Enter the sentencewithout,hello,bag,world\n",
      "\n",
      "bag,hello,without,world\n"
     ]
    }
   ],
   "source": [
    "inp=input('Enter the sentence').split(',')\n",
    "print()\n",
    "print(','.join(sorted(inp)))"
   ]
  },
  {
   "cell_type": "markdown",
   "id": "46b23086",
   "metadata": {},
   "source": [
    "# Question 4:\n",
    "Write a program that accepts a sequence of whitespace separated words as input and prints the words after removing all duplicate words and sorting them alphanumerically.\n",
    "\n",
    "Suppose the following input is supplied to the program:\n",
    "\n",
    "hello world and practice makes perfect and hello world again\n",
    "\n",
    "Then, the output should be:\n",
    "\n",
    "again and hello makes perfect practice world\n",
    "\n"
   ]
  },
  {
   "cell_type": "code",
   "execution_count": 4,
   "id": "cf5d7603",
   "metadata": {},
   "outputs": [
    {
     "name": "stdout",
     "output_type": "stream",
     "text": [
      "Enter the sentence:hello world and practice makes perfect and hello world again\n",
      "\n",
      "again and hello makes perfect practice world\n"
     ]
    }
   ],
   "source": [
    "inp=input('Enter the sentence:').split(' ')\n",
    "print()\n",
    "print(' '.join(sorted(set(inp))))"
   ]
  },
  {
   "cell_type": "markdown",
   "id": "6fcb5544",
   "metadata": {},
   "source": [
    "# Question 5:\n",
    "Write a program that accepts a sentence and calculate the number of letters and digits.\n",
    "\n",
    "Suppose the following input is supplied to the program:\n",
    "\n",
    "hello world! 123\n",
    "\n",
    "Then, the output should be:\n",
    "\n",
    "LETTERS 10\n",
    "\n",
    "DIGITS 3\n",
    "\n"
   ]
  },
  {
   "cell_type": "code",
   "execution_count": 5,
   "id": "6fa43c8a",
   "metadata": {},
   "outputs": [
    {
     "name": "stdout",
     "output_type": "stream",
     "text": [
      "Enter the sentence: hello world! 123\n",
      "LETTERS  10\n",
      "DIGITS  3\n"
     ]
    }
   ],
   "source": [
    "inp=input('Enter the sentence: ')\n",
    "digit='0123456789'\n",
    "alpha='abcdefghijklmnopqrstuvwxyzABCDEFGHIJKLMNOPQRSTUVWXYZ'\n",
    "d=0\n",
    "l=0\n",
    "for i in inp:\n",
    "    if i in digit:\n",
    "        d+=1\n",
    "    elif i in alpha:\n",
    "        l+=1\n",
    "\n",
    "\n",
    "print('LETTERS ',l)\n",
    "print('DIGITS ',d)"
   ]
  },
  {
   "cell_type": "markdown",
   "id": "4264163e",
   "metadata": {},
   "source": [
    "# Question 6:\n",
    "A website requires the users to input username and password to register. Write a program to check the validity of password input by users.\n",
    "\n",
    "Following are the criteria for checking the password:\n",
    "\n",
    "1. At least 1 letter between [a-z]\n",
    "\n",
    "2. At least 1 number between [0-9]\n",
    "\n",
    "1. At least 1 letter between [A-Z]\n",
    "\n",
    "3. At least 1 character from [$#@]\n",
    "\n",
    "4. Minimum length of transaction password: 6\n",
    "\n",
    "5. Maximum length of transaction password: 12\n",
    "\n",
    "Your program should accept a sequence of comma separated passwords and will check them according to the above criteria. Passwords that match the criteria are to be printed, each separated by a comma.\n",
    "\n",
    "Example\n",
    "\n",
    "If the following passwords are given as input to the program:\n",
    "\n",
    "ABd1234@1,a F1#,2w3E*,2We3345\n",
    "\n",
    "Then, the output of the program should be:\n",
    "\n",
    "ABd1234@1\n"
   ]
  },
  {
   "cell_type": "code",
   "execution_count": 6,
   "id": "c4796d03",
   "metadata": {},
   "outputs": [
    {
     "name": "stdout",
     "output_type": "stream",
     "text": [
      "Enter the sequence of password : ABd1234@1,a F1#,2w3E*,2We3345\n",
      "ABd1234@1\n"
     ]
    }
   ],
   "source": [
    "small='abcdefghijklmnopqrstuvwxyz'\n",
    "big='ABCDEFGHIJKLMNOPQRSTUVWXYZ'\n",
    "char='$#@'\n",
    "num='0123456789'\n",
    "min_l=6\n",
    "max_l=12\n",
    "inp=input('Enter the sequence of password : ').split(',')\n",
    "for ele in inp:\n",
    "    if len(ele)>=min_l and len(ele)<=max_l:\n",
    "        if any(i.isupper() for i in ele):\n",
    "            if (any(i.islower() for i in ele)):\n",
    "                if any(i for i in ele if i in char):\n",
    "                    print(ele)\n",
    "\n"
   ]
  },
  {
   "cell_type": "code",
   "execution_count": null,
   "id": "451e4c74",
   "metadata": {},
   "outputs": [],
   "source": []
  }
 ],
 "metadata": {
  "kernelspec": {
   "display_name": "Python 3 (ipykernel)",
   "language": "python",
   "name": "python3"
  },
  "language_info": {
   "codemirror_mode": {
    "name": "ipython",
    "version": 3
   },
   "file_extension": ".py",
   "mimetype": "text/x-python",
   "name": "python",
   "nbconvert_exporter": "python",
   "pygments_lexer": "ipython3",
   "version": "3.9.7"
  }
 },
 "nbformat": 4,
 "nbformat_minor": 5
}
