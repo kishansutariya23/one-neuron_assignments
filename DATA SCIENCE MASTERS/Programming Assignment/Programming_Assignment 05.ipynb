{
 "cells": [
  {
   "cell_type": "markdown",
   "id": "b9d8c955",
   "metadata": {},
   "source": [
    "# 1.\tWrite a Python Program to Find LCM?\n"
   ]
  },
  {
   "cell_type": "code",
   "execution_count": 1,
   "id": "f65c006b",
   "metadata": {},
   "outputs": [
    {
     "name": "stdout",
     "output_type": "stream",
     "text": [
      "20\n"
     ]
    }
   ],
   "source": [
    "import math\n",
    "\n",
    "print(math.lcm(10, 20))"
   ]
  },
  {
   "cell_type": "raw",
   "id": "80241cf7",
   "metadata": {},
   "source": [
    " 5 | 10,20\n",
    "    ________\n",
    " 2 |  2,  4\n",
    "    ________\n",
    " 2 |  1, 2 \n",
    "    _________\n",
    "      1, 1\n",
    "L.C.M:- 5*2*2=20"
   ]
  },
  {
   "cell_type": "code",
   "execution_count": 2,
   "id": "9434f57e",
   "metadata": {},
   "outputs": [
    {
     "data": {
      "text/plain": [
       "'LCM of 10,20 is = 20 '"
      ]
     },
     "execution_count": 2,
     "metadata": {},
     "output_type": "execute_result"
    }
   ],
   "source": [
    "def lcm(a,b):\n",
    "    if a>b:\n",
    "        greater=a\n",
    "    else:\n",
    "        greater=b\n",
    "    while(True):\n",
    "        if((greater%a==0) and (greater%b==0)):\n",
    "            result=greater\n",
    "            break\n",
    "        greater+=1\n",
    "    return 'LCM of {},{} is = {} '.format(a,b,result)\n",
    "\n",
    "lcm(10,20)"
   ]
  },
  {
   "cell_type": "markdown",
   "id": "b9fb92f8",
   "metadata": {},
   "source": [
    "# 2.\tWrite a Python Program to Find HCF?\n"
   ]
  },
  {
   "cell_type": "code",
   "execution_count": 3,
   "id": "6bbe4755",
   "metadata": {},
   "outputs": [
    {
     "data": {
      "text/plain": [
       "100"
      ]
     },
     "execution_count": 3,
     "metadata": {},
     "output_type": "execute_result"
    }
   ],
   "source": [
    "math.gcd(300,400)"
   ]
  },
  {
   "cell_type": "code",
   "execution_count": 4,
   "id": "78a20bd8",
   "metadata": {},
   "outputs": [
    {
     "name": "stdout",
     "output_type": "stream",
     "text": [
      "The HCF is 100\n"
     ]
    }
   ],
   "source": [
    "#   HCF by Using Euclidian algorithm\n",
    "def hcf(x, y):\n",
    "    while(y):\n",
    "        x, y = y, x % y\n",
    "    return x\n",
    "\n",
    "hcf = hcf(300, 400)\n",
    "print(\"The HCF is\", hcf)"
   ]
  },
  {
   "cell_type": "markdown",
   "id": "808e25b3",
   "metadata": {},
   "source": [
    "# 3.\tWrite a Python Program to Convert Decimal to Binary, Octal and Hexadecimal?\n"
   ]
  },
  {
   "cell_type": "code",
   "execution_count": 5,
   "id": "dfdfa761",
   "metadata": {},
   "outputs": [
    {
     "name": "stdout",
     "output_type": "stream",
     "text": [
      "Enter decimal no.384\n",
      "Binary no.       0b110000000\n",
      "Octal no.        0o600\n",
      "Hexadecimal no   0x180\n"
     ]
    }
   ],
   "source": [
    "d=int(input('Enter decimal no.'))\n",
    "print('Binary no.      ',bin(d))\n",
    "print('Octal no.       ',oct(d))\n",
    "print('Hexadecimal no  ',hex(d))"
   ]
  },
  {
   "cell_type": "markdown",
   "id": "32762df5",
   "metadata": {},
   "source": [
    "# 4.\tWrite a Python Program To Find ASCII value of a character?\n"
   ]
  },
  {
   "cell_type": "code",
   "execution_count": 6,
   "id": "e06cc346",
   "metadata": {},
   "outputs": [
    {
     "name": "stdout",
     "output_type": "stream",
     "text": [
      "Enter Character:-K\n",
      "The ASCII value of K is 75\n"
     ]
    }
   ],
   "source": [
    "char=input('Enter Character:-')\n",
    "print('The ASCII value of',char,'is',ord(char))"
   ]
  },
  {
   "cell_type": "markdown",
   "id": "028991ac",
   "metadata": {},
   "source": [
    "# 5.\tWrite a Python Program to Make a Simple Calculator with 4 basic mathematical operations?\n"
   ]
  },
  {
   "cell_type": "code",
   "execution_count": 7,
   "id": "a5d5720b",
   "metadata": {},
   "outputs": [
    {
     "name": "stdout",
     "output_type": "stream",
     "text": [
      "enter input: 375\n",
      "enter operation-\n",
      "enter input: 384\n",
      "375-384 = -9\n"
     ]
    }
   ],
   "source": [
    "# BASIC MATHEMATICAL OPERATOR ARE + - * / \n",
    "def operator(op):\n",
    "    if op=='+':\n",
    "        return a+b\n",
    "    elif op=='-':\n",
    "        return a-b\n",
    "    elif op==\"*\":\n",
    "        return a*b\n",
    "    elif op=='/':\n",
    "        return a/b\n",
    "    \n",
    "a=int(input(\"enter input: \"))\n",
    "op=input(\"enter operation\")\n",
    "b=int(input(\"enter input: \"))\n",
    "print('{}{}{} = {}'.format(a,op,b,operator(op)))\n",
    "    \n"
   ]
  },
  {
   "cell_type": "code",
   "execution_count": null,
   "id": "7ec10f40",
   "metadata": {},
   "outputs": [],
   "source": []
  }
 ],
 "metadata": {
  "kernelspec": {
   "display_name": "Python 3 (ipykernel)",
   "language": "python",
   "name": "python3"
  },
  "language_info": {
   "codemirror_mode": {
    "name": "ipython",
    "version": 3
   },
   "file_extension": ".py",
   "mimetype": "text/x-python",
   "name": "python",
   "nbconvert_exporter": "python",
   "pygments_lexer": "ipython3",
   "version": "3.9.7"
  }
 },
 "nbformat": 4,
 "nbformat_minor": 5
}
