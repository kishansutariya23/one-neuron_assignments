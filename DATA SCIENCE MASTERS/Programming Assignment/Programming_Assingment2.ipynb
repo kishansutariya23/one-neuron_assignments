{
 "cells": [
  {
   "cell_type": "markdown",
   "id": "a5863237",
   "metadata": {},
   "source": [
    "## 1.\tWrite a Python program to convert kilometers to miles?\n"
   ]
  },
  {
   "cell_type": "code",
   "execution_count": 1,
   "id": "2869b87f",
   "metadata": {},
   "outputs": [
    {
     "data": {
      "text/plain": [
       "'10 Km = 6.21 Miles'"
      ]
     },
     "execution_count": 1,
     "metadata": {},
     "output_type": "execute_result"
    }
   ],
   "source": [
    "def kmToMiles(km):\n",
    "#     1KM =0.6213 Miles\n",
    "    return \"{} Km = {:.2f} Miles\".format(km,km*0.6213)\n",
    "\n",
    "kmToMiles(10)"
   ]
  },
  {
   "cell_type": "markdown",
   "id": "bd57df77",
   "metadata": {},
   "source": [
    "## 2.\tWrite a Python program to convert Celsius to Fahrenheit?\n"
   ]
  },
  {
   "cell_type": "code",
   "execution_count": 2,
   "id": "d167975a",
   "metadata": {},
   "outputs": [
    {
     "name": "stdout",
     "output_type": "stream",
     "text": [
      "2°C = 35.6°F\n"
     ]
    }
   ],
   "source": [
    "def cToF(c):\n",
    "#     1C=33.8F\n",
    "# FORMULA:- Fahrenheit (°F) = (Celsius x 1.8) + 32\n",
    "    return \"{}°C = {}°F\".format(c,(c*1.8)+32)\n",
    "\n",
    "\n",
    "print(cToF(2))"
   ]
  },
  {
   "cell_type": "markdown",
   "id": "803f35f6",
   "metadata": {},
   "source": [
    "## 3.\tWrite a Python program to display calendar?\n"
   ]
  },
  {
   "cell_type": "code",
   "execution_count": 3,
   "id": "24a7f07a",
   "metadata": {},
   "outputs": [
    {
     "name": "stdout",
     "output_type": "stream",
     "text": [
      "                                  2022\n",
      "\n",
      "      January                   February                   March\n",
      "Mo Tu We Th Fr Sa Su      Mo Tu We Th Fr Sa Su      Mo Tu We Th Fr Sa Su\n",
      "                1  2          1  2  3  4  5  6          1  2  3  4  5  6\n",
      " 3  4  5  6  7  8  9       7  8  9 10 11 12 13       7  8  9 10 11 12 13\n",
      "10 11 12 13 14 15 16      14 15 16 17 18 19 20      14 15 16 17 18 19 20\n",
      "17 18 19 20 21 22 23      21 22 23 24 25 26 27      21 22 23 24 25 26 27\n",
      "24 25 26 27 28 29 30      28                        28 29 30 31\n",
      "31\n",
      "\n",
      "       April                      May                       June\n",
      "Mo Tu We Th Fr Sa Su      Mo Tu We Th Fr Sa Su      Mo Tu We Th Fr Sa Su\n",
      "             1  2  3                         1             1  2  3  4  5\n",
      " 4  5  6  7  8  9 10       2  3  4  5  6  7  8       6  7  8  9 10 11 12\n",
      "11 12 13 14 15 16 17       9 10 11 12 13 14 15      13 14 15 16 17 18 19\n",
      "18 19 20 21 22 23 24      16 17 18 19 20 21 22      20 21 22 23 24 25 26\n",
      "25 26 27 28 29 30         23 24 25 26 27 28 29      27 28 29 30\n",
      "                          30 31\n",
      "\n",
      "        July                     August                  September\n",
      "Mo Tu We Th Fr Sa Su      Mo Tu We Th Fr Sa Su      Mo Tu We Th Fr Sa Su\n",
      "             1  2  3       1  2  3  4  5  6  7                1  2  3  4\n",
      " 4  5  6  7  8  9 10       8  9 10 11 12 13 14       5  6  7  8  9 10 11\n",
      "11 12 13 14 15 16 17      15 16 17 18 19 20 21      12 13 14 15 16 17 18\n",
      "18 19 20 21 22 23 24      22 23 24 25 26 27 28      19 20 21 22 23 24 25\n",
      "25 26 27 28 29 30 31      29 30 31                  26 27 28 29 30\n",
      "\n",
      "      October                   November                  December\n",
      "Mo Tu We Th Fr Sa Su      Mo Tu We Th Fr Sa Su      Mo Tu We Th Fr Sa Su\n",
      "                1  2          1  2  3  4  5  6                1  2  3  4\n",
      " 3  4  5  6  7  8  9       7  8  9 10 11 12 13       5  6  7  8  9 10 11\n",
      "10 11 12 13 14 15 16      14 15 16 17 18 19 20      12 13 14 15 16 17 18\n",
      "17 18 19 20 21 22 23      21 22 23 24 25 26 27      19 20 21 22 23 24 25\n",
      "24 25 26 27 28 29 30      28 29 30                  26 27 28 29 30 31\n",
      "31\n",
      "\n"
     ]
    }
   ],
   "source": [
    "import calendar as c\n",
    "year=2022\n",
    "print(c.calendar(year))"
   ]
  },
  {
   "cell_type": "markdown",
   "id": "95f5b10d",
   "metadata": {},
   "source": [
    "## 4.\tWrite a Python program to solve quadratic equation?\n"
   ]
  },
  {
   "cell_type": "code",
   "execution_count": 4,
   "id": "6a79b3c2",
   "metadata": {},
   "outputs": [
    {
     "name": "stdout",
     "output_type": "stream",
     "text": [
      "7.810249675906654\n",
      "(-0.405124837953327, 7.405124837953327)\n"
     ]
    }
   ],
   "source": [
    "# FORMULA:-when  Ax**2 + Bx + c =0 \n",
    "# then [-b+-sqrt(b**2-4ac)]/2a\n",
    "\n",
    "#  we will get two roots as this is quadratic equation\n",
    "\n",
    "import math\n",
    "def quadraticEqn(a,b,c):\n",
    "    s=math.sqrt(b**2 -4*a*c)\n",
    "    print(s)\n",
    "    r1= (-(b)-s)/2*a\n",
    "    r2= (-b+s)/2*a\n",
    "    \n",
    "    return r1,r2\n",
    "    \n",
    "\n",
    "    \n",
    "    pass\n",
    "# Ax**2 + Bx + c =0 \n",
    "#  X**2 - 7X - 3 = 0 ==> x=-0.4 and x=7.4\n",
    "print(quadraticEqn(1,-7,-3))"
   ]
  },
  {
   "cell_type": "markdown",
   "id": "231d3ee4",
   "metadata": {},
   "source": [
    "## 5.\tWrite a Python program to swap two variables without temp variable?\n"
   ]
  },
  {
   "cell_type": "code",
   "execution_count": 5,
   "id": "fd4cbe2e",
   "metadata": {},
   "outputs": [
    {
     "name": "stdout",
     "output_type": "stream",
     "text": [
      "Before swaping : 10\n",
      "Before swaping : 20\n",
      "---------------\n",
      "After swaping : 20\n",
      "After swaping : 10\n"
     ]
    }
   ],
   "source": [
    " a=10\n",
    "b=20\n",
    "print('Before swaping :',a)\n",
    "print('Before swaping :',b)\n",
    "\n",
    "a,b=b,a\n",
    "\n",
    "print('---------------')\n",
    "print('After swaping :',a)\n",
    "print('After swaping :',b)"
   ]
  },
  {
   "cell_type": "code",
   "execution_count": null,
   "id": "cc2f2411",
   "metadata": {},
   "outputs": [],
   "source": []
  }
 ],
 "metadata": {
  "kernelspec": {
   "display_name": "Python 3 (ipykernel)",
   "language": "python",
   "name": "python3"
  },
  "language_info": {
   "codemirror_mode": {
    "name": "ipython",
    "version": 3
   },
   "file_extension": ".py",
   "mimetype": "text/x-python",
   "name": "python",
   "nbconvert_exporter": "python",
   "pygments_lexer": "ipython3",
   "version": "3.9.7"
  }
 },
 "nbformat": 4,
 "nbformat_minor": 5
}
