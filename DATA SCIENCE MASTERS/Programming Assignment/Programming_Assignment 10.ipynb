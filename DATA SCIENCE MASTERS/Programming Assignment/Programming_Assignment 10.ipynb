{
 "cells": [
  {
   "cell_type": "markdown",
   "id": "94b7b741",
   "metadata": {},
   "source": [
    "# 1. Write a Python program to find sum of elements in list?\n"
   ]
  },
  {
   "cell_type": "code",
   "execution_count": 1,
   "id": "6aec96bb",
   "metadata": {},
   "outputs": [
    {
     "name": "stdout",
     "output_type": "stream",
     "text": [
      "Method 1 :--> 55\n",
      "method 2:-->  55\n"
     ]
    }
   ],
   "source": [
    "l=[1,2,3,4,5,6,7,8,9,10]\n",
    "print('Method 1 :-->',sum(l))\n",
    "sum1=0\n",
    "for i in l:\n",
    "    sum1+=i\n",
    "print('method 2:--> ',sum1)\n"
   ]
  },
  {
   "cell_type": "markdown",
   "id": "17b8f8cc",
   "metadata": {},
   "source": [
    "# 2. Write a Python program to Multiply all numbers in the list?\n"
   ]
  },
  {
   "cell_type": "code",
   "execution_count": 2,
   "id": "aed97720",
   "metadata": {},
   "outputs": [
    {
     "name": "stdout",
     "output_type": "stream",
     "text": [
      "Multiply all number by the 10 \n",
      "Result is:-  [10, 20, 30, 40, 50, 60, 70, 80, 90, 100]\n"
     ]
    }
   ],
   "source": [
    "l=[1,2,3,4,5,6,7,8,9,10]\n",
    "## multiply by 10\n",
    "print('Multiply all number by the 10 ')\n",
    "for i,e in enumerate(l):\n",
    "    l[i]=e*10\n",
    "print('Result is:- ',l)"
   ]
  },
  {
   "cell_type": "markdown",
   "id": "a7bea870",
   "metadata": {},
   "source": [
    "# 3. Write a Python program to find smallest number in a list?\n"
   ]
  },
  {
   "cell_type": "code",
   "execution_count": 3,
   "id": "dd096637",
   "metadata": {},
   "outputs": [
    {
     "name": "stdout",
     "output_type": "stream",
     "text": [
      "Method 1 : 23\n",
      "Method 2:  23\n"
     ]
    }
   ],
   "source": [
    "reg=[384,375,376,23]\n",
    "print('Method 1 :',min(reg))\n",
    "small=reg[0]\n",
    "for i in range(1,len(reg)):\n",
    "    if small>reg[i]:\n",
    "        small=reg[i]\n",
    "print('Method 2: ',small)"
   ]
  },
  {
   "cell_type": "markdown",
   "id": "ac90ed17",
   "metadata": {},
   "source": [
    "# 4. Write a Python program to find largest number in a list?\n"
   ]
  },
  {
   "cell_type": "code",
   "execution_count": 4,
   "id": "6881412c",
   "metadata": {},
   "outputs": [
    {
     "name": "stdout",
     "output_type": "stream",
     "text": [
      "Method 1 : 384\n",
      "Method 2:  384\n"
     ]
    }
   ],
   "source": [
    "reg=[384,375,376,23]\n",
    "print('Method 1 :',max(reg))\n",
    "big=reg[0]\n",
    "for i in range(1,len(reg)):\n",
    "    if big<reg[i]:\n",
    "        big=reg[i]\n",
    "print('Method 2: ',big)"
   ]
  },
  {
   "cell_type": "markdown",
   "id": "77e0b797",
   "metadata": {},
   "source": [
    "# 5. Write a Python program to find second largest number in a list?\n"
   ]
  },
  {
   "cell_type": "code",
   "execution_count": 5,
   "id": "e04c1502",
   "metadata": {},
   "outputs": [
    {
     "name": "stdout",
     "output_type": "stream",
     "text": [
      "Second largest no.  376\n"
     ]
    }
   ],
   "source": [
    "reg=[384,375,376,23]\n",
    "reg.sort()\n",
    "print(\"Second largest no. \",reg[-2])"
   ]
  },
  {
   "cell_type": "markdown",
   "id": "efdfc351",
   "metadata": {},
   "source": [
    "# 6. Write a Python program to find N largest elements from a list?"
   ]
  },
  {
   "cell_type": "code",
   "execution_count": 6,
   "id": "2990a3c9",
   "metadata": {},
   "outputs": [
    {
     "name": "stdout",
     "output_type": "stream",
     "text": [
      "Enter the nth number3\n",
      "Second largest no.  375\n"
     ]
    }
   ],
   "source": [
    "reg=[384,375,376,23]\n",
    "nth=int(input('Enter the nth number'))\n",
    "reg.sort()\n",
    "print(\"Second largest no. \",reg[-nth])"
   ]
  },
  {
   "cell_type": "markdown",
   "id": "ba01aeba",
   "metadata": {},
   "source": [
    "\n",
    "# 7. Write a Python program to print even numbers in a list?\n"
   ]
  },
  {
   "cell_type": "code",
   "execution_count": 7,
   "id": "b997a6c2",
   "metadata": {},
   "outputs": [
    {
     "name": "stdout",
     "output_type": "stream",
     "text": [
      "Enter the nth no. for your sequence20\n",
      "Even number list for the nth sequence is :\n",
      "[0, 2, 4, 6, 8, 10, 12, 14, 16, 18]\n"
     ]
    }
   ],
   "source": [
    "el=[]\n",
    "nth=int(input('Enter the nth no. for your sequence'))\n",
    " \n",
    "for i in range(nth):\n",
    "    if i%2==0:\n",
    "        el.append(i)\n",
    "print('Even number list for the nth sequence is :')\n",
    "print(el)"
   ]
  },
  {
   "cell_type": "markdown",
   "id": "03b02348",
   "metadata": {},
   "source": [
    "# 8. Write a Python program to print odd numbers in a List?\n"
   ]
  },
  {
   "cell_type": "code",
   "execution_count": 8,
   "id": "55de0924",
   "metadata": {},
   "outputs": [
    {
     "name": "stdout",
     "output_type": "stream",
     "text": [
      "Enter the nth no. for your sequence20\n",
      "Even number list for the nth sequence is :\n",
      "[1, 3, 5, 7, 9, 11, 13, 15, 17, 19]\n"
     ]
    }
   ],
   "source": [
    "ol=[]\n",
    "nth=int(input('Enter the nth no. for your sequence'))\n",
    " \n",
    "for i in range(nth):\n",
    "    if i%2!=0:\n",
    "        ol.append(i)\n",
    "print('Even number list for the nth sequence is :')\n",
    "print(ol)"
   ]
  },
  {
   "cell_type": "markdown",
   "id": "357a7615",
   "metadata": {},
   "source": [
    "# 9. Write a Python program to Remove empty List from List?\n"
   ]
  },
  {
   "cell_type": "code",
   "execution_count": 9,
   "id": "8654bbae",
   "metadata": {},
   "outputs": [
    {
     "name": "stdout",
     "output_type": "stream",
     "text": [
      "List without empty list:  [[5], [54, 545, 9], [1, 4, 7], [8, 2, 5]]\n"
     ]
    }
   ],
   "source": [
    "listofList = [[5],[   ], [54, 545,9], [], [1, 4, 7], [], [8, 2, 5] ]\n",
    "nonEmptyList = [] \n",
    "\n",
    "# Iterating using loop and eliminating empty list\n",
    "nonEmptyList = [i for i in listofList if i != []]\n",
    "\n",
    " \n",
    "print(\"List without empty list: \", end = \" \" )\n",
    "print(nonEmptyList)\n"
   ]
  },
  {
   "cell_type": "markdown",
   "id": "9b970a56",
   "metadata": {},
   "source": [
    "# 10. Write a Python program to Cloning or Copying a list?\n"
   ]
  },
  {
   "cell_type": "code",
   "execution_count": 10,
   "id": "d809517a",
   "metadata": {},
   "outputs": [
    {
     "name": "stdout",
     "output_type": "stream",
     "text": [
      "Original array : [384, 375, 376, 23]\n",
      "array after copy and update array:-1 : [384, 375, 376, 23, '384']\n",
      "array after copy and update array:-2 : [384, 375, 376, 23]\n"
     ]
    }
   ],
   "source": [
    "reg=[384,375,376,23]\n",
    "reg1=reg.copy()\n",
    "print('Original array :',reg)\n",
    "reg.append('384')\n",
    "print('array after copy and update array:-1 :',reg)\n",
    "print('array after copy and update array:-2 :',reg1)\n"
   ]
  },
  {
   "cell_type": "markdown",
   "id": "394518d9",
   "metadata": {},
   "source": [
    "# 11. Write a Python program to Count occurrences of an element in a list?"
   ]
  },
  {
   "cell_type": "code",
   "execution_count": 11,
   "id": "7fdba561",
   "metadata": {},
   "outputs": [
    {
     "name": "stdout",
     "output_type": "stream",
     "text": [
      "Count of occurence of element in list are in represented in form of dict\n",
      "{384: 2, 375: 1, 376: 1, 23: 2}\n"
     ]
    }
   ],
   "source": [
    "reg=[384,375,376,23,23,384]\n",
    "reg1={}\n",
    "c=1\n",
    "for i in reg:\n",
    "    if i in reg1:\n",
    "        c=reg1[i]\n",
    "        reg1[i]=c+1\n",
    "    else:\n",
    "        reg1[i]=c\n",
    "        \n",
    "print(\"Count of occurence of element in list are in represented in form of dict\")  \n",
    "print(reg1)"
   ]
  },
  {
   "cell_type": "code",
   "execution_count": null,
   "id": "cea55a30",
   "metadata": {},
   "outputs": [],
   "source": []
  },
  {
   "cell_type": "code",
   "execution_count": null,
   "id": "0de5fd58",
   "metadata": {},
   "outputs": [],
   "source": []
  }
 ],
 "metadata": {
  "kernelspec": {
   "display_name": "Python 3 (ipykernel)",
   "language": "python",
   "name": "python3"
  },
  "language_info": {
   "codemirror_mode": {
    "name": "ipython",
    "version": 3
   },
   "file_extension": ".py",
   "mimetype": "text/x-python",
   "name": "python",
   "nbconvert_exporter": "python",
   "pygments_lexer": "ipython3",
   "version": "3.9.7"
  }
 },
 "nbformat": 4,
 "nbformat_minor": 5
}
