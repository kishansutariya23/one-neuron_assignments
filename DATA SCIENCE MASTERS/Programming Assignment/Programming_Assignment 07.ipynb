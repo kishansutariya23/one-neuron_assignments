{
 "cells": [
  {
   "cell_type": "markdown",
   "id": "441f1e3a",
   "metadata": {},
   "source": [
    "# 1. Write a Python Program to find sum of array?\n"
   ]
  },
  {
   "cell_type": "code",
   "execution_count": 1,
   "id": "65e11cd7",
   "metadata": {},
   "outputs": [
    {
     "name": "stdout",
     "output_type": "stream",
     "text": [
      "Enter numbers with space1 2 3 4 5 6 7 8 9\n",
      "sum of input array is  45\n"
     ]
    }
   ],
   "source": [
    "array=list(map(int,input('Enter numbers with space').split( )))\n",
    "print('sum of input array is ',sum(array))"
   ]
  },
  {
   "cell_type": "markdown",
   "id": "715e21b2",
   "metadata": {},
   "source": [
    "# 2. Write a Python Program to find largest element in an array?\n"
   ]
  },
  {
   "cell_type": "code",
   "execution_count": 2,
   "id": "d0e177c6",
   "metadata": {},
   "outputs": [
    {
     "name": "stdout",
     "output_type": "stream",
     "text": [
      "Enter numbers with space375 384 376 023\n",
      "Method 1:-\n",
      "Max from given array  384\n",
      "\n",
      "Method 2:-\n",
      "Max from given array  384\n"
     ]
    }
   ],
   "source": [
    "array=list(map(int,input('Enter numbers with space').split( )))\n",
    "print('Method 1:-')\n",
    "print('Max from given array ',max(array))\n",
    "print()\n",
    "print('Method 2:-')\n",
    "temp=array[0]\n",
    "for i in range(1,len(array)):\n",
    "    if temp<array[i]:\n",
    "        temp=array[i]\n",
    "\n",
    "print('Max from given array ',temp)\n"
   ]
  },
  {
   "cell_type": "markdown",
   "id": "b26ca83d",
   "metadata": {},
   "source": [
    "# 3. Write a Python Program for array rotation?\n"
   ]
  },
  {
   "cell_type": "code",
   "execution_count": 4,
   "id": "0a9a4c81",
   "metadata": {},
   "outputs": [
    {
     "name": "stdout",
     "output_type": "stream",
     "text": [
      "Array after Rotation by 5  elements is:  [11, 13, 15, 1, 3, 5, 7, 9]\n"
     ]
    }
   ],
   "source": [
    " \n",
    "def rotate_array(array, K, E):  \n",
    "    temp_1 = []  \n",
    "    J = 0  \n",
    "    while (J < E):  \n",
    "        temp_1.append(array[J])  \n",
    "        J = J + 1  \n",
    "    J = 0  \n",
    "    while (E < K):  \n",
    "        array[J] = array[E]  \n",
    "        J = J + 1  \n",
    "        E = E + 1  \n",
    "    array[:] = array[: J] + temp_1  \n",
    "    return array  \n",
    "   \n",
    "#  Driver function to test above function  \n",
    "array = [1, 3, 5, 7, 9, 11, 13, 15]  \n",
    "d=5\n",
    "print (\"Array after Rotation by\",d,\" elements is: \", end = ' ')  \n",
    "print (rotate_array(array, len(array), d))  \n",
    "\n"
   ]
  },
  {
   "cell_type": "markdown",
   "id": "48c84eb3",
   "metadata": {},
   "source": [
    "# 4. Write a Python Program to Split the array and add the first part to the end?\n"
   ]
  },
  {
   "cell_type": "code",
   "execution_count": 5,
   "id": "ce62a4cd",
   "metadata": {},
   "outputs": [
    {
     "name": "stdout",
     "output_type": "stream",
     "text": [
      "Enter numbers with space 1 2 3 4 5 6 7 8 9 0\n",
      "First part of array   [1, 2, 3, 4, 5]\n",
      "Second part of array  [7, 8, 9, 0]\n",
      "\n",
      "Final array:  [7, 8, 9, 0, 1, 2, 3, 4, 5]\n"
     ]
    }
   ],
   "source": [
    "array=list(map(int,input('Enter numbers with space ').split( )))\n",
    " \n",
    "l=len(array)\n",
    "fp=array[:l//2]\n",
    "sp=array[(l//2)+1:]\n",
    "print(\"First part of array  \",fp)\n",
    "print(\"Second part of array \",sp)\n",
    "fa=sp+fp\n",
    "print()\n",
    "print(\"Final array: \",fa)"
   ]
  },
  {
   "cell_type": "markdown",
   "id": "9df62931",
   "metadata": {},
   "source": [
    "# 5. Write a Python Program to check if given array is Monotonic?"
   ]
  },
  {
   "cell_type": "code",
   "execution_count": 6,
   "id": "a1395bbc",
   "metadata": {},
   "outputs": [
    {
     "name": "stdout",
     "output_type": "stream",
     "text": [
      "Enter the no. by giving space 1 2 2 3 4 6 6 8\n",
      "True\n"
     ]
    }
   ],
   "source": [
    "# Monotonic means the array should be in sequence of either ascending or descending\n",
    "# if it fails to prove this then we can say that the array is not monotonic array\n",
    "# array[i]>=array[i+1]  or array[i]<=array[i+1] \n",
    "def isMonotonic(array):\n",
    "    return ((all(array[i]<=array[i+1] for i in range(len(array)-1)))\n",
    "             or\n",
    "          (all(array[i]>=array[i+1] for i in range(len(array)-1))))\n",
    "            \n",
    "\n",
    "array=list(map(int,input('Enter the no. by giving space ').split( )))\n",
    "print( isMonotonic(array))\n",
    " "
   ]
  },
  {
   "cell_type": "code",
   "execution_count": null,
   "id": "1a3a602a",
   "metadata": {},
   "outputs": [],
   "source": []
  }
 ],
 "metadata": {
  "kernelspec": {
   "display_name": "Python 3 (ipykernel)",
   "language": "python",
   "name": "python3"
  },
  "language_info": {
   "codemirror_mode": {
    "name": "ipython",
    "version": 3
   },
   "file_extension": ".py",
   "mimetype": "text/x-python",
   "name": "python",
   "nbconvert_exporter": "python",
   "pygments_lexer": "ipython3",
   "version": "3.9.7"
  }
 },
 "nbformat": 4,
 "nbformat_minor": 5
}
