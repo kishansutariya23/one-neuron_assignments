{
 "cells": [
  {
   "cell_type": "markdown",
   "id": "c0037b8a",
   "metadata": {},
   "source": [
    "# 1. Write a Python Program to Display Fibonacci Sequence Using Recursion?\n"
   ]
  },
  {
   "cell_type": "code",
   "execution_count": 1,
   "id": "665515ac",
   "metadata": {},
   "outputs": [
    {
     "name": "stdout",
     "output_type": "stream",
     "text": [
      "Enter the Length of series in positive no : 10\n",
      "0 1 1 2 3 5 8 13 21 34 "
     ]
    }
   ],
   "source": [
    "def fib(n):\n",
    "    if n<=1:\n",
    "        return n\n",
    "    else:\n",
    "        return fib(n-1)+fib(n-2)\n",
    "\n",
    "l=int(input(\"Enter the Length of series in positive no : \"))\n",
    "for i in range(l):\n",
    "    print(fib(i),end=\" \",sep=\" \")"
   ]
  },
  {
   "cell_type": "markdown",
   "id": "259e10b5",
   "metadata": {},
   "source": [
    "# 2. Write a Python Program to Find Factorial of Number Using Recursion?\n"
   ]
  },
  {
   "cell_type": "code",
   "execution_count": 2,
   "id": "a9f0c125",
   "metadata": {},
   "outputs": [
    {
     "name": "stdout",
     "output_type": "stream",
     "text": [
      "Enter the Factorial number 7\n"
     ]
    },
    {
     "data": {
      "text/plain": [
       "5040"
      ]
     },
     "execution_count": 2,
     "metadata": {},
     "output_type": "execute_result"
    }
   ],
   "source": [
    "def fact(n):\n",
    "    if n<=1:\n",
    "        return 1\n",
    "    return n*fact(n-1)\n",
    "\n",
    "l=int(input(\"Enter the Factorial number \"))\n",
    "fact(l)"
   ]
  },
  {
   "cell_type": "markdown",
   "id": "f7e2745c",
   "metadata": {},
   "source": [
    "# 3. Write a Python Program to calculate your Body Mass Index?\n"
   ]
  },
  {
   "cell_type": "code",
   "execution_count": 3,
   "id": "7ee17280",
   "metadata": {},
   "outputs": [
    {
     "name": "stdout",
     "output_type": "stream",
     "text": [
      "Enter your weight in Kg's 71.4\n",
      "Enter your heights in meters 1.6\n",
      "BMI of your's is : 27.890624999999996\n"
     ]
    }
   ],
   "source": [
    "# FORMULA:-   BMI=weight(Kg)/[height(m)]^2\n",
    "w=float(input(\"Enter your weight in Kg's \"))\n",
    "h=float(input(\"Enter your heights in meters \"))\n",
    "print(\"BMI of your's is :\",w/(h**2))"
   ]
  },
  {
   "cell_type": "markdown",
   "id": "f9e283ca",
   "metadata": {},
   "source": [
    "# 4. Write a Python Program to calculate the natural logarithm of any number?\n"
   ]
  },
  {
   "cell_type": "code",
   "execution_count": 4,
   "id": "434c8fd5",
   "metadata": {},
   "outputs": [
    {
     "name": "stdout",
     "output_type": "stream",
     "text": [
      "3.1354942159291497\n",
      "1.0\n",
      "0.0\n"
     ]
    }
   ],
   "source": [
    "# natural log is written as log(x) or loge(x)\n",
    "import math\n",
    "print(math.log(23))\n",
    "print(math.log(math.e))\n",
    "print(math.log(1))"
   ]
  },
  {
   "cell_type": "markdown",
   "id": "d0185673",
   "metadata": {},
   "source": [
    "# 5. Write a Python Program for cube sum of first n natural numbers?"
   ]
  },
  {
   "cell_type": "code",
   "execution_count": 5,
   "id": "e188b658",
   "metadata": {},
   "outputs": [
    {
     "name": "stdout",
     "output_type": "stream",
     "text": [
      "Enter the nth number for your sequence 5\n",
      "Cubic sum of  5  is  225\n"
     ]
    }
   ],
   "source": [
    "# ()^3 +()^3 +()^3\n",
    "# natural number starts from 1 to infinite(oo)\n",
    "l=int(input('Enter the nth number for your sequence '))\n",
    "cubicSum=0\n",
    "for i in range(l+1):\n",
    "    cubicSum+=(i)**3\n",
    "print(\"Cubic sum of \",l,\" is \",cubicSum)"
   ]
  },
  {
   "cell_type": "code",
   "execution_count": null,
   "id": "8571d164",
   "metadata": {},
   "outputs": [],
   "source": []
  }
 ],
 "metadata": {
  "kernelspec": {
   "display_name": "Python 3 (ipykernel)",
   "language": "python",
   "name": "python3"
  },
  "language_info": {
   "codemirror_mode": {
    "name": "ipython",
    "version": 3
   },
   "file_extension": ".py",
   "mimetype": "text/x-python",
   "name": "python",
   "nbconvert_exporter": "python",
   "pygments_lexer": "ipython3",
   "version": "3.9.7"
  }
 },
 "nbformat": 4,
 "nbformat_minor": 5
}
