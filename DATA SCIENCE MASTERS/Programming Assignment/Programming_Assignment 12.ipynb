{
 "cells": [
  {
   "cell_type": "markdown",
   "id": "d7e14912",
   "metadata": {},
   "source": [
    "# 1.\tWrite a Python program to Extract Unique values dictionary values?\n"
   ]
  },
  {
   "cell_type": "code",
   "execution_count": 1,
   "id": "b7c765d5",
   "metadata": {},
   "outputs": [
    {
     "data": {
      "text/plain": [
       "['a', 'ML', 'b', 'kishan', 'c']"
      ]
     },
     "execution_count": 1,
     "metadata": {},
     "output_type": "execute_result"
    }
   ],
   "source": [
    "d={1:'a',2:'b',3:'c','name':'kishan','course type':'ML','course name':'ML'}\n",
    "list(set(d.values()))"
   ]
  },
  {
   "cell_type": "markdown",
   "id": "98bbe251",
   "metadata": {},
   "source": [
    "# 2.\tWrite a Python program to find the sum of all items in a dictionary?\n"
   ]
  },
  {
   "cell_type": "code",
   "execution_count": 2,
   "id": "74b8938d",
   "metadata": {},
   "outputs": [
    {
     "data": {
      "text/plain": [
       "10"
      ]
     },
     "execution_count": 2,
     "metadata": {},
     "output_type": "execute_result"
    }
   ],
   "source": [
    "d={'a':1,'b':2,'c':3,'d':4}\n",
    "sum(d.values())"
   ]
  },
  {
   "cell_type": "markdown",
   "id": "fd7484bb",
   "metadata": {},
   "source": [
    "# 3.\tWrite a Python program to Merging two Dictionaries?\n"
   ]
  },
  {
   "cell_type": "code",
   "execution_count": 3,
   "id": "6e4a8bdd",
   "metadata": {},
   "outputs": [
    {
     "data": {
      "text/plain": [
       "{'a': 1,\n",
       " 'b': 2,\n",
       " 'c': 3,\n",
       " 'd': 4,\n",
       " 1: 'a',\n",
       " 2: 'b',\n",
       " 3: 'c',\n",
       " 'name': 'kishan',\n",
       " 'course type': 'ML',\n",
       " 'course name': 'ML'}"
      ]
     },
     "execution_count": 3,
     "metadata": {},
     "output_type": "execute_result"
    }
   ],
   "source": [
    "d0={'a':1,'b':2,'c':3,'d':4}\n",
    "d1={1:'a',2:'b',3:'c','name':'kishan','course type':'ML','course name':'ML'}\n",
    "d0.update(d1)\n",
    "d0"
   ]
  },
  {
   "cell_type": "markdown",
   "id": "f1e96f45",
   "metadata": {},
   "source": [
    "# 4.\tWrite a Python program to convert key-values list to flat dictionary?\n"
   ]
  },
  {
   "cell_type": "code",
   "execution_count": 4,
   "id": "6f73ea58",
   "metadata": {},
   "outputs": [
    {
     "name": "stdout",
     "output_type": "stream",
     "text": [
      "{'a': 1, 'b': 2, 'c': 3, 'd': 4, 'e': 5}\n"
     ]
    }
   ],
   "source": [
    "l=[('a',1),('b',2),('c',3),('d',4),('e',5)]\n",
    "d={}\n",
    "for i in l:\n",
    "    d[i[0]]=i[1]\n",
    "print(d)"
   ]
  },
  {
   "cell_type": "markdown",
   "id": "e9127ee9",
   "metadata": {},
   "source": [
    "# 5.\tWrite a Python program to insertion at the beginning in OrderedDict?\n"
   ]
  },
  {
   "cell_type": "code",
   "execution_count": 5,
   "id": "2e864fcf",
   "metadata": {},
   "outputs": [
    {
     "name": "stdout",
     "output_type": "stream",
     "text": [
      "dict_one OrderedDict([('Apple', 'Iphone'), ('Microsoft', 'Windows'), ('Google', 'chrome')])\n",
      "\n",
      "dict_one after adding OrderedDict([('Apple', 'Iphone'), ('Microsoft', 'Windows'), ('Google', 'chrome'), ('Linux', 'open sourse')])\n",
      "\n",
      "dict_one after inserting at begining OrderedDict([('Linux', 'open sourse'), ('Apple', 'Iphone'), ('Microsoft', 'Windows'), ('Google', 'chrome')])\n"
     ]
    }
   ],
   "source": [
    "from collections import OrderedDict\n",
    "\n",
    "dict_one = OrderedDict({'Apple':'Iphone','Microsoft':'Windows','Google':'chrome'})\n",
    "print('dict_one',dict_one)\n",
    "print()\n",
    "dict_two = {'Linux':'open sourse'}\n",
    "dict_one.update(dict_two)\n",
    "print('dict_one after adding',dict_one)\n",
    "print()\n",
    "dict_one.move_to_end('Linux',last=False)\n",
    "print('dict_one after inserting at begining',dict_one)"
   ]
  },
  {
   "cell_type": "markdown",
   "id": "b75df8de",
   "metadata": {},
   "source": [
    "# 6.\tWrite a Python program to check order of character in string using OrderedDict()?\n"
   ]
  },
  {
   "cell_type": "code",
   "execution_count": 6,
   "id": "2f0c7e36",
   "metadata": {},
   "outputs": [
    {
     "name": "stdout",
     "output_type": "stream",
     "text": [
      "{'a': 100, 'f': 600, 'd': 400, 'c': 300, 'b': 200, 'e': 500}\n",
      "\n",
      "after using OrderedDict()\n"
     ]
    },
    {
     "data": {
      "text/plain": [
       "OrderedDict([('a', 100),\n",
       "             ('b', 200),\n",
       "             ('c', 300),\n",
       "             ('d', 400),\n",
       "             ('e', 500),\n",
       "             ('f', 600)])"
      ]
     },
     "execution_count": 6,
     "metadata": {},
     "output_type": "execute_result"
    }
   ],
   "source": [
    "from collections import OrderedDict\n",
    "\n",
    "initial_list = {'a': 100, 'f': 600, 'd': 400, 'c': 300, 'b': 200, 'e': 500}\n",
    "print(initial_list)\n",
    "print()\n",
    "print('after using OrderedDict()')\n",
    "OrderedDict(dict(sorted(initial_list.items())))\n",
    " "
   ]
  },
  {
   "cell_type": "markdown",
   "id": "db2c64af",
   "metadata": {},
   "source": [
    "# 7.\tWrite a Python program to sort Python Dictionaries by Key or Value?\n"
   ]
  },
  {
   "cell_type": "code",
   "execution_count": 7,
   "id": "474b5a28",
   "metadata": {},
   "outputs": [
    {
     "name": "stdout",
     "output_type": "stream",
     "text": [
      "sorted values :\n",
      "{6: 'ML', 5: 'ML', 1: 'a', 2: 'b', 3: 'c', 4: 'kishan'}\n",
      "\n",
      "sorted keys   :\n",
      "{1: 'a', 2: 'b', 3: 'c', 4: 'kishan', 5: 'ML', 6: 'ML'}\n"
     ]
    }
   ],
   "source": [
    "d={1:'a',2:'b',3:'c',4:'kishan',6:'ML',5:'ML'}\n",
    "\n",
    "def sort_d(d,t):\n",
    "    if t=='key':\n",
    "        print(dict(sorted(d.items(), key=lambda x:x[0], reverse=False)))\n",
    "    else:\n",
    "        print(dict(sorted(d.items(), key=lambda x:x[1], reverse=False)))\n",
    "    \n",
    "\n",
    "print('sorted values :')\n",
    "sort_d(d,'value')\n",
    "print()\n",
    "print('sorted keys   :')\n",
    "sort_d(d,'key')\n"
   ]
  },
  {
   "cell_type": "code",
   "execution_count": null,
   "id": "e8368d1e",
   "metadata": {},
   "outputs": [],
   "source": []
  }
 ],
 "metadata": {
  "kernelspec": {
   "display_name": "Python 3 (ipykernel)",
   "language": "python",
   "name": "python3"
  },
  "language_info": {
   "codemirror_mode": {
    "name": "ipython",
    "version": 3
   },
   "file_extension": ".py",
   "mimetype": "text/x-python",
   "name": "python",
   "nbconvert_exporter": "python",
   "pygments_lexer": "ipython3",
   "version": "3.9.7"
  }
 },
 "nbformat": 4,
 "nbformat_minor": 5
}
