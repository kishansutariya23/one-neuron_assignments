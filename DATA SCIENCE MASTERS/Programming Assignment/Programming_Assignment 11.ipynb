{
 "cells": [
  {
   "cell_type": "markdown",
   "id": "9e092621",
   "metadata": {},
   "source": [
    "# 1.\tWrite a Python program to find words which are greater than given length k?\n"
   ]
  },
  {
   "cell_type": "code",
   "execution_count": 1,
   "id": "60a7be1d",
   "metadata": {},
   "outputs": [
    {
     "name": "stdout",
     "output_type": "stream",
     "text": [
      "Enter the length of word :4\n",
      "kishan\n",
      "currently\n",
      "learning\n",
      "Science\n",
      "Master\n",
      "iNeuron\n"
     ]
    }
   ],
   "source": [
    "k=int(input('Enter the length of word :'))\n",
    "\n",
    "s='Hey my name is kishan and iam currently learning Data Science Master from iNeuron'\n",
    "for i in s.split( ):\n",
    "    if len(i) > k:\n",
    "        print(i)"
   ]
  },
  {
   "cell_type": "markdown",
   "id": "073c264f",
   "metadata": {},
   "source": [
    "# 2.\tWrite a Python program for removing i-th character from a string?\n"
   ]
  },
  {
   "cell_type": "code",
   "execution_count": 2,
   "id": "1bf1fc8d",
   "metadata": {},
   "outputs": [
    {
     "name": "stdout",
     "output_type": "stream",
     "text": [
      "Enter the ith number2\n",
      "my\n"
     ]
    },
    {
     "data": {
      "text/plain": [
       "['Hey',\n",
       " 'name',\n",
       " 'is',\n",
       " 'kishan',\n",
       " 'and',\n",
       " 'iam',\n",
       " 'currently',\n",
       " 'learning',\n",
       " 'Data',\n",
       " 'Science',\n",
       " 'Master',\n",
       " 'from',\n",
       " 'iNeuron']"
      ]
     },
     "execution_count": 2,
     "metadata": {},
     "output_type": "execute_result"
    }
   ],
   "source": [
    "s='Hey my name is kishan and iam currently learning Data Science Master from iNeuron'.split( )\n",
    "i=int(input('Enter the ith number'))\n",
    "print(s[i-1])\n",
    "del (s[i-1])\n",
    "s   # removed 4th==is from string"
   ]
  },
  {
   "cell_type": "markdown",
   "id": "f99a61ca",
   "metadata": {},
   "source": [
    "# 3.\tWrite a Python program to split and join a string?\n"
   ]
  },
  {
   "cell_type": "code",
   "execution_count": 3,
   "id": "859afa2d",
   "metadata": {},
   "outputs": [
    {
     "name": "stdout",
     "output_type": "stream",
     "text": [
      "After split string ['Hey', 'my', 'name', 'is', 'kishan', 'and', 'iam', 'currently', 'learning', 'Data', 'Science', 'Master', 'from', 'iNeuron']\n",
      "-----------**********************-----\n",
      "After join of string Hey%20my%20name%20is%20kishan%20and%20iam%20currently%20learning%20Data%20Science%20Master%20from%20iNeuron\n"
     ]
    }
   ],
   "source": [
    "s='Hey my name is kishan and iam currently learning Data Science Master from iNeuron'\n",
    "s=s.split()\n",
    " \n",
    "print('After split string',s)\n",
    "print('-----------**********************-----')\n",
    "s='%20'.join(s)\n",
    "print('After join of string',s) \n",
    " "
   ]
  },
  {
   "cell_type": "markdown",
   "id": "4e630016",
   "metadata": {},
   "source": [
    "# 4.\tWrite a Python to check if a given string is binary string or not?\n"
   ]
  },
  {
   "cell_type": "code",
   "execution_count": 4,
   "id": "8af5a881",
   "metadata": {},
   "outputs": [
    {
     "name": "stdout",
     "output_type": "stream",
     "text": [
      "Enter Binary string :101011100\n",
      "String is binary\n"
     ]
    }
   ],
   "source": [
    "b={'0','1'}\n",
    "\n",
    "# '010101' ---> binary\n",
    "# '011024' ---> Not binary\n",
    "s1=input('Enter Binary string :')\n",
    "set1=set(s1)\n",
    " \n",
    "\n",
    "if b==set1 or set1=={'0'} or set1=={'1'}:\n",
    "    print('String is binary')\n",
    "else:\n",
    "    print('String is NOT binary')\n",
    "    \n"
   ]
  },
  {
   "cell_type": "markdown",
   "id": "136177a0",
   "metadata": {},
   "source": [
    "# 5.\tWrite a Python program to find uncommon words from two Strings?\n"
   ]
  },
  {
   "cell_type": "code",
   "execution_count": 5,
   "id": "06ea6f7e",
   "metadata": {},
   "outputs": [
    {
     "name": "stdout",
     "output_type": "stream",
     "text": [
      "{'kishan', 'kumar', 'engineer', 'Gayi', 'ML', 'is', 'system'}\n"
     ]
    }
   ],
   "source": [
    "s1='kishan kumar is ML engineer  '\n",
    "s2=' Gayi is system engineer'\n",
    "ls=s1+s2\n",
    "s=set()\n",
    "\n",
    "for i in ls.split():\n",
    "    if i not in s:\n",
    "        s.add(i)\n",
    "print(s)"
   ]
  },
  {
   "cell_type": "markdown",
   "id": "009c0cde",
   "metadata": {},
   "source": [
    "# 6.\tWrite a Python to find all duplicate characters in string?\n"
   ]
  },
  {
   "cell_type": "code",
   "execution_count": 6,
   "id": "51a0027d",
   "metadata": {},
   "outputs": [
    {
     "name": "stdout",
     "output_type": "stream",
     "text": [
      "o   t a d r p e n l u s i y h ( ) m , c . "
     ]
    }
   ],
   "source": [
    "s='How to add or append values to a set in Python ? In python add () method or append () method is used to simply add an item in set, tuple, dictionary etc..'\n",
    "d={}\n",
    "for i in s:\n",
    "    if i in d:\n",
    "        d[i]+=1\n",
    "    else:\n",
    "        d[i]=1\n",
    "# print(d)\n",
    "for key,value in d.items():\n",
    "    if value >1:\n",
    "        print(key,end=' ')"
   ]
  },
  {
   "cell_type": "markdown",
   "id": "fc00f7a3",
   "metadata": {},
   "source": [
    "# 7.\tWrite a Python Program to check if a string contains any special character?\n"
   ]
  },
  {
   "cell_type": "code",
   "execution_count": 7,
   "id": "03f2cfcb",
   "metadata": {},
   "outputs": [
    {
     "name": "stdout",
     "output_type": "stream",
     "text": [
      "? ( ) ( ) , , . . "
     ]
    }
   ],
   "source": [
    "s='How to add or append values to a set in Python ? In python add () method or append () method is used to simply add an item in set, tuple, dictionary etc..'\n",
    "sc=\"',.<>/?:;[{(-!`@#%^&*_\\|)}]\"\n",
    "for i in s:\n",
    "    if i in sc:\n",
    "        print(i,end=' ')"
   ]
  },
  {
   "cell_type": "code",
   "execution_count": null,
   "id": "6199289d",
   "metadata": {},
   "outputs": [],
   "source": []
  }
 ],
 "metadata": {
  "kernelspec": {
   "display_name": "Python 3 (ipykernel)",
   "language": "python",
   "name": "python3"
  },
  "language_info": {
   "codemirror_mode": {
    "name": "ipython",
    "version": 3
   },
   "file_extension": ".py",
   "mimetype": "text/x-python",
   "name": "python",
   "nbconvert_exporter": "python",
   "pygments_lexer": "ipython3",
   "version": "3.9.7"
  }
 },
 "nbformat": 4,
 "nbformat_minor": 5
}
